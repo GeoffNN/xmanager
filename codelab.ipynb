{
 "cells": [
  {
   "cell_type": "code",
   "execution_count": null,
   "id": "6cdf730e-9fe7-4d78-ab10-dcd6a26bfefc",
   "metadata": {},
   "outputs": [],
   "source": [
    "# Copyright 2021 DeepMind Technologies Limited\n",
    "#\n",
    "# Licensed under the Apache License, Version 2.0 (the \"License\");\n",
    "# you may not use this file except in compliance with the License.\n",
    "# You may obtain a copy of the License at\n",
    "#\n",
    "#      http://www.apache.org/licenses/LICENSE-2.0\n",
    "#\n",
    "# Unless required by applicable law or agreed to in writing, software\n",
    "# distributed under the License is distributed on an \"AS IS\" BASIS,\n",
    "# WITHOUT WARRANTIES OR CONDITIONS OF ANY KIND, either express or implied.\n",
    "# See the License for the specific language governing permissions and\n",
    "# limitations under the License."
   ]
  },
  {
   "cell_type": "markdown",
   "id": "081405f1-aa42-4569-9332-21add7ae04b5",
   "metadata": {
    "tags": []
   },
   "source": [
    "# XManager codelab notebook\n",
    "\n",
    "This notebook will take you through running an XManager experiment on Google Cloud Platform (GCP).\n",
    "\n",
    "A stand-alone Jupyter Notebook can be created via GCP's [Vertex AI Notebooks](https://console.cloud.google.com/vertex-ai/notebooks/list/instances)\n",
    "\n",
    "JupyterLab can be installed on your machine following [Jupyter's installation](https://jupyter.org/install)."
   ]
  },
  {
   "cell_type": "markdown",
   "id": "05f0dec3-860d-4847-bc30-1f99c2e063e1",
   "metadata": {},
   "source": [
    "## Install any prerequisites\n",
    "\n",
    "1. Create a [GCP project](https://console.cloud.google.com/) if one does not already exist.\n",
    "\n",
    "2. Install [Docker](https://docs.docker.com/engine/install/) if it is not already installed."
   ]
  },
  {
   "cell_type": "markdown",
   "id": "632a09e9-ae00-4e3a-abfe-ac3d8a18a223",
   "metadata": {},
   "source": [
    "## Download and install XManager"
   ]
  },
  {
   "cell_type": "code",
   "execution_count": null,
   "id": "5d1749a4-aff0-43c5-93ab-7cc2e0e03f5b",
   "metadata": {},
   "outputs": [],
   "source": [
    "!git clone https://github.com/google-research/raksha.git ~/xmanager\n",
    "!pip install ~/xmanager"
   ]
  },
  {
   "cell_type": "markdown",
   "id": "aa3628d5-e006-44de-87b8-b87f73ed21c2",
   "metadata": {},
   "source": [
    "## Set default GCP values"
   ]
  },
  {
   "cell_type": "markdown",
   "id": "a1d7e16b-d84e-42fd-b899-443f1a577f5b",
   "metadata": {},
   "source": [
    "The following gets the GCP project."
   ]
  },
  {
   "cell_type": "code",
   "execution_count": null,
   "id": "e0c477f2-d762-469d-bbe0-001f44d8f8df",
   "metadata": {
    "tags": []
   },
   "outputs": [],
   "source": [
    "from google import auth\n",
    "credentials = auth.default()[0]\n",
    "project = auth.default()[1]\n",
    "print('GCP Project:', project)"
   ]
  },
  {
   "cell_type": "markdown",
   "id": "37a7d47a-133c-4597-84de-b53b8ac8fccd",
   "metadata": {},
   "source": [
    "Use `gcloud auth application-default login` if the above command results in an error or the project is incorrect.\n",
    "\n",
    "XManager requires a Google Cloud Storage Bucket. [Create one](https://cloud.google.com/storage/docs/creating-buckets) if one does not already exist and enter it in the box below."
   ]
  },
  {
   "cell_type": "code",
   "execution_count": 1,
   "id": "14f3e08a-de24-4d93-a656-74e1f424a385",
   "metadata": {
    "jupyter": {
     "source_hidden": true
    },
    "tags": []
   },
   "outputs": [
    {
     "data": {
      "application/vnd.jupyter.widget-view+json": {
       "model_id": "b9522d3aee694a42893bc3cbe3d0c4d3",
       "version_major": 2,
       "version_minor": 0
      },
      "text/plain": [
       "Text(value='', description='GOOGLE_CLOUD_BUCKET_NAME:', layout=Layout(width='50%'), style=DescriptionStyle(des…"
      ]
     },
     "metadata": {},
     "output_type": "display_data"
    }
   ],
   "source": [
    "from IPython.display import display\n",
    "import ipywidgets\n",
    "import os\n",
    "\n",
    "def bucket_changed(change):\n",
    "    os.environ['GOOGLE_CLOUD_BUCKET_NAME'] = change.new\n",
    "\n",
    "GOOGLE_CLOUD_BUCKET_NAME = ipywidgets.Text(\n",
    "    description='GOOGLE_CLOUD_BUCKET_NAME:',\n",
    "    style={'description_width': 'initial'},\n",
    "    layout=ipywidgets.Layout(width='50%'),\n",
    ")\n",
    "GOOGLE_CLOUD_BUCKET_NAME.observe(bucket_changed, names='value')\n",
    "\n",
    "display(GOOGLE_CLOUD_BUCKET_NAME)"
   ]
  },
  {
   "cell_type": "code",
   "execution_count": null,
   "id": "5139b368-9183-442e-b421-760ec268741a",
   "metadata": {
    "tags": []
   },
   "outputs": [],
   "source": [
    "from xmanager import xm\n",
    "# This code block sets FLAGS to use default values to avoid an absl.flags.UnparsedFlagAccessError.\n",
    "# Normally XManager flags are set via the command-line with `xmanager train.py -- --key=value`\n",
    "from absl import flags\n",
    "flags.FLAGS([''])\n",
    "flags.FLAGS.xm_wrap_late_bindings = True"
   ]
  },
  {
   "cell_type": "markdown",
   "id": "8ea2b7f4-a1bf-444f-a0cd-35d144ccfd3b",
   "metadata": {},
   "source": [
    "## Launching an experiment"
   ]
  },
  {
   "cell_type": "markdown",
   "id": "9cf5e68c-3c6b-4fc7-9749-088b53ced1bc",
   "metadata": {},
   "source": [
    "This code block has everything needed to launch an first experiment."
   ]
  },
  {
   "cell_type": "code",
   "execution_count": null,
   "id": "c3aa0b2e-ab14-4952-8b42-a1245167864a",
   "metadata": {},
   "outputs": [],
   "source": [
    "import asyncio\n",
    "import itertools\n",
    "import os\n",
    "\n",
    "from xmanager import xm\n",
    "from xmanager import xm_local\n",
    "\n",
    "async with xm_local.create_experiment(experiment_title='cifar10') as experiment:\n",
    "    [executable] = experiment.package([\n",
    "        xm.python_container(\n",
    "            executor_spec=xm_local.Caip.Spec(),\n",
    "            path=os.path.expanduser('~/xmanager/examples/cifar10_torch'),\n",
    "            entrypoint=xm.ModuleName('cifar10'),\n",
    "        )\n",
    "    ])\n",
    "\n",
    "    batch_sizes = [64, 128]\n",
    "    learning_rates = [0.01, 0.001]\n",
    "    trials = list(\n",
    "        dict([('batch_size', bs), ('learning_rate', lr)])\n",
    "        for (bs, lr) in itertools.product(batch_sizes, learning_rates)\n",
    "    )\n",
    "    for hyperparameters in trials:\n",
    "        experiment.add(xm.Job(\n",
    "            executable=executable,\n",
    "            executor=xm_local.Caip(requirements=xm.JobRequirements(T4=1)),\n",
    "            args=hyperparameters,\n",
    "        ))"
   ]
  },
  {
   "cell_type": "markdown",
   "id": "e4f19d4f-bbc6-4e4f-8759-c5a2d4162673",
   "metadata": {},
   "source": [
    "## Breaking down an experiment"
   ]
  },
  {
   "cell_type": "markdown",
   "id": "93855a16-e0b1-4614-9ec4-9b493bbe8317",
   "metadata": {},
   "source": [
    "The above experiment can be broken down into smaller steps. Let's break down the above code block by defining `launch_experiment` that has the following steps:\n",
    "\n",
    "1. Creating the experiment.\n",
    "2. Defining the executable specification.\n",
    "3. Define the execution environment.\n",
    "4. Defining the hyperparameters.\n",
    "5. Launching the jobs.\n",
    "\n",
    "These 6 helper methods are undefined right now, but we will define them in the next sections accompanied with an explanation for what is happening."
   ]
  },
  {
   "cell_type": "code",
   "execution_count": null,
   "id": "3e873acb-738d-4d5a-935f-f4f135f99fb4",
   "metadata": {},
   "outputs": [],
   "source": [
    "async def launch_experiment():\n",
    "    async with create_experiment() as experiment:                   # (1) Creating the experiment.\n",
    "        executable = create_executable(experiment)                  # (2) Defining the executable.\n",
    "        executor = execution_environment()                          # (3) Define the execution environment.\n",
    "        hparams = define_hyperparameters()                          # (4) Defining the hyperparameters.\n",
    "        launch_jobs(experiment, executable, executor, hparams)      # (5) Launching the jobs."
   ]
  },
  {
   "cell_type": "markdown",
   "id": "ca2f5e67-8c5d-49cd-89e9-3165abc09ec6",
   "metadata": {},
   "source": [
    "### Creating the experiment\n",
    "\n",
    "Give the experiment a name. The `create_experiment` method will also create a unique integer id for the experiment and save this experiment to a database."
   ]
  },
  {
   "cell_type": "code",
   "execution_count": null,
   "id": "a0cb22ae-16a1-4262-8ce6-0102b545697a",
   "metadata": {},
   "outputs": [],
   "source": [
    "def create_experiment():\n",
    "    return xm_local.create_experiment(experiment_title='cifar10')"
   ]
  },
  {
   "cell_type": "markdown",
   "id": "916a97c3-fdf7-422f-8b73-22b4a623af4c",
   "metadata": {},
   "source": [
    "### Defining the executable\n",
    "\n",
    "Define the job that will run in the experiment. A `PythonContainer` is an example of a executable specificaiton. This executable specification tells XManager to package everything inside the `PythonContainer.path` as a container and use `PythonContainer.entrypoint` as the main module. Because we cloned XManager to `~/xmanager` in an early step, we can use one of the examples, `~/xmanager/examples/cifar10_torch` as the path.\n",
    "\n",
    "We also need to declare where the executable should be staged. This step will upload the executable specification to the correct storage option that is best suited for the execution environment. For example, if the execution environment is Vertex AI, the executable must be stored in Google Container Registry. The `Caip.Spec()` specification will upload the specification to Google Container Registry, where it will be accessible by Vertex AI."
   ]
  },
  {
   "cell_type": "code",
   "execution_count": null,
   "id": "5d03e3a4-b48d-4a7b-9ad5-5b0f08646ed5",
   "metadata": {},
   "outputs": [],
   "source": [
    "def create_spec(experiment):\n",
    "    [executable] = experiment.package([\n",
    "        xm.python_container(\n",
    "            executor_spec=xm_local.Caip.Spec(),\n",
    "            path=os.path.expanduser('~/xmanager/examples/cifar10_torch'),\n",
    "            entrypoint=xm.ModuleName('cifar10'),\n",
    "        )\n",
    "    ])\n",
    "    return executable"
   ]
  },
  {
   "cell_type": "markdown",
   "id": "1d6249a6-8596-4a70-886a-18738396cea6",
   "metadata": {},
   "source": [
    "### Define the execution environment\n",
    "\n",
    "Declare where the job will run and what compute requirements are necessary to run one job. To run on AI Vertex, we must use the `xm_local.Caip` executor. Each job should use 1 NVidia T4 GPU, so we must pass in a `xm.JobRequirements` to the executor."
   ]
  },
  {
   "cell_type": "code",
   "execution_count": null,
   "id": "cb7ecc92-dc01-4513-9aec-105295ad484e",
   "metadata": {},
   "outputs": [],
   "source": [
    "def execution_environment():\n",
    "    return xm_local.Caip(xm.JobRequirements(T4=1))"
   ]
  },
  {
   "cell_type": "markdown",
   "id": "1a8cf716-3c84-423e-88d3-e6c3e7322c41",
   "metadata": {},
   "source": [
    "### Define the hyperparameters\n",
    "\n",
    "Define the hyperparameters trials for this experiment. A grid search is easy to define using `itertools`."
   ]
  },
  {
   "cell_type": "code",
   "execution_count": null,
   "id": "73ad717a-ae2b-4437-98d4-ed2d7e1b7e68",
   "metadata": {},
   "outputs": [],
   "source": [
    "def define_hyperparameters():\n",
    "    batch_sizes = [64, 128]\n",
    "    learning_rates = [0.01, 0.001]\n",
    "    return list(\n",
    "      dict([('batch_size', bs), ('learning_rate', lr)])\n",
    "      for (bs, lr) in itertools.product(batch_sizes, learning_rates)\n",
    "    )\n",
    "\n",
    "from pprint import pprint\n",
    "pprint(define_hyperparameters())"
   ]
  },
  {
   "cell_type": "markdown",
   "id": "57b6d9c5-28b0-4074-91ed-645e72908329",
   "metadata": {},
   "source": [
    "### Launch the jobs\n",
    "\n",
    "Finally, we can add experiment units to our experiment. To add a single job to the experiment, create a `xm.Job` object that combine the executable, compute requirements, and custom arguments hyperparameters, and the job to the experiment."
   ]
  },
  {
   "cell_type": "code",
   "execution_count": null,
   "id": "27ccf7ba-d19e-4b84-8eaa-634b13ddd7e6",
   "metadata": {},
   "outputs": [],
   "source": [
    "def launch_single_job(experiment, executable, executor, batch_size, learning_rate):\n",
    "    experiment.add(xm.Job(\n",
    "        executable=executable,\n",
    "        executor=executor,\n",
    "        args={'batch_size': batch_size, 'learning_rate': learning_rate},\n",
    "    ))"
   ]
  },
  {
   "cell_type": "markdown",
   "id": "54cbbfa7-8856-49af-a77f-147ed4749bdc",
   "metadata": {},
   "source": [
    "To do a grid search, loop over all the hyperparameters, passing a different hyperparameter configuration to the `args` parameter of each job. Add each job to the experiment."
   ]
  },
  {
   "cell_type": "code",
   "execution_count": null,
   "id": "24767b61-2861-4cc5-9cdf-fd6673f34893",
   "metadata": {},
   "outputs": [],
   "source": [
    "def launch_jobs(experiment, executable, executor, trials):\n",
    "    for hparams in trials:\n",
    "        experiment.add(xm.Job(\n",
    "            executable=executable,\n",
    "            executor=executor,\n",
    "            args=hparams,\n",
    "        ))"
   ]
  },
  {
   "cell_type": "markdown",
   "id": "7c647ad2-1878-44a9-aec4-2af919de414d",
   "metadata": {},
   "source": [
    "Finally, we call the parent method we defined at the beginning of this section."
   ]
  },
  {
   "cell_type": "code",
   "execution_count": null,
   "id": "a025178b-cf29-46be-836c-98ed4f0c9959",
   "metadata": {},
   "outputs": [],
   "source": [
    "await launch_experiment()"
   ]
  }
 ],
 "metadata": {
  "environment": {
   "name": "common-cpu.m80",
   "type": "gcloud",
   "uri": "gcr.io/deeplearning-platform-release/base-cpu:m80"
  },
  "kernelspec": {
   "display_name": "Python 3",
   "language": "python",
   "name": "python3"
  },
  "language_info": {
   "codemirror_mode": {
    "name": "ipython",
    "version": 3
   },
   "file_extension": ".py",
   "mimetype": "text/x-python",
   "name": "python",
   "nbconvert_exporter": "python",
   "pygments_lexer": "ipython3",
   "version": "3.7.10"
  }
 },
 "nbformat": 4,
 "nbformat_minor": 5
}